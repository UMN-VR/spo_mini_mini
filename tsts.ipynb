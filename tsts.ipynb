{
 "cells": [
  {
   "cell_type": "code",
   "execution_count": 1,
   "metadata": {},
   "outputs": [
    {
     "ename": "PermissionError",
     "evalue": "[Errno 13] Permission denied: '/dev/i2c-1'",
     "output_type": "error",
     "traceback": [
      "\u001b[0;31m---------------------------------------------------------------------------\u001b[0m",
      "\u001b[0;31mPermissionError\u001b[0m                           Traceback (most recent call last)",
      "Cell \u001b[0;32mIn[1], line 16\u001b[0m\n\u001b[1;32m     14\u001b[0m \u001b[38;5;66;03m# Test each MPU6050\u001b[39;00m\n\u001b[1;32m     15\u001b[0m \u001b[38;5;28;01mfor\u001b[39;00m i2c_bus \u001b[38;5;129;01min\u001b[39;00m [\u001b[38;5;241m1\u001b[39m, \u001b[38;5;241m2\u001b[39m, \u001b[38;5;241m3\u001b[39m]:\n\u001b[0;32m---> 16\u001b[0m     who_am_i_value \u001b[38;5;241m=\u001b[39m \u001b[43mread_who_am_i\u001b[49m\u001b[43m(\u001b[49m\u001b[43mi2c_bus\u001b[49m\u001b[43m)\u001b[49m\n\u001b[1;32m     17\u001b[0m     \u001b[38;5;28mprint\u001b[39m(\u001b[38;5;124mf\u001b[39m\u001b[38;5;124m\"\u001b[39m\u001b[38;5;124mBus \u001b[39m\u001b[38;5;132;01m{\u001b[39;00mi2c_bus\u001b[38;5;132;01m}\u001b[39;00m\u001b[38;5;124m: WHO_AM_I register value = \u001b[39m\u001b[38;5;132;01m{\u001b[39;00m\u001b[38;5;28mhex\u001b[39m(who_am_i_value)\u001b[38;5;132;01m}\u001b[39;00m\u001b[38;5;124m\"\u001b[39m)\n\u001b[1;32m     18\u001b[0m     \u001b[38;5;28;01mif\u001b[39;00m who_am_i_value \u001b[38;5;241m==\u001b[39m MPU6050_ADDRESS:\n",
      "Cell \u001b[0;32mIn[1], line 9\u001b[0m, in \u001b[0;36mread_who_am_i\u001b[0;34m(bus_number)\u001b[0m\n\u001b[1;32m      8\u001b[0m \u001b[38;5;28;01mdef\u001b[39;00m \u001b[38;5;21mread_who_am_i\u001b[39m(bus_number):\n\u001b[0;32m----> 9\u001b[0m     \u001b[38;5;28;01mwith\u001b[39;00m \u001b[43mSMBus\u001b[49m\u001b[43m(\u001b[49m\u001b[43mbus_number\u001b[49m\u001b[43m)\u001b[49m \u001b[38;5;28;01mas\u001b[39;00m bus:\n\u001b[1;32m     10\u001b[0m         \u001b[38;5;66;03m# Read a single byte from the WHO_AM_I register\u001b[39;00m\n\u001b[1;32m     11\u001b[0m         who_am_i \u001b[38;5;241m=\u001b[39m bus\u001b[38;5;241m.\u001b[39mread_byte_data(MPU6050_ADDRESS, WHO_AM_I_REG)\n\u001b[1;32m     12\u001b[0m         \u001b[38;5;28;01mreturn\u001b[39;00m who_am_i\n",
      "File \u001b[0;32m/usr/local/lib/python3.10/site-packages/smbus2/smbus2.py:280\u001b[0m, in \u001b[0;36mSMBus.__init__\u001b[0;34m(self, bus, force)\u001b[0m\n\u001b[1;32m    278\u001b[0m \u001b[38;5;28mself\u001b[39m\u001b[38;5;241m.\u001b[39mfuncs \u001b[38;5;241m=\u001b[39m I2cFunc(\u001b[38;5;241m0\u001b[39m)\n\u001b[1;32m    279\u001b[0m \u001b[38;5;28;01mif\u001b[39;00m bus \u001b[38;5;129;01mis\u001b[39;00m \u001b[38;5;129;01mnot\u001b[39;00m \u001b[38;5;28;01mNone\u001b[39;00m:\n\u001b[0;32m--> 280\u001b[0m     \u001b[38;5;28;43mself\u001b[39;49m\u001b[38;5;241;43m.\u001b[39;49m\u001b[43mopen\u001b[49m\u001b[43m(\u001b[49m\u001b[43mbus\u001b[49m\u001b[43m)\u001b[49m\n\u001b[1;32m    281\u001b[0m \u001b[38;5;28mself\u001b[39m\u001b[38;5;241m.\u001b[39maddress \u001b[38;5;241m=\u001b[39m \u001b[38;5;28;01mNone\u001b[39;00m\n\u001b[1;32m    282\u001b[0m \u001b[38;5;28mself\u001b[39m\u001b[38;5;241m.\u001b[39mforce \u001b[38;5;241m=\u001b[39m force\n",
      "File \u001b[0;32m/usr/local/lib/python3.10/site-packages/smbus2/smbus2.py:310\u001b[0m, in \u001b[0;36mSMBus.open\u001b[0;34m(self, bus)\u001b[0m\n\u001b[1;32m    307\u001b[0m \u001b[38;5;28;01melse\u001b[39;00m:\n\u001b[1;32m    308\u001b[0m     \u001b[38;5;28;01mraise\u001b[39;00m \u001b[38;5;167;01mTypeError\u001b[39;00m(\u001b[38;5;124m\"\u001b[39m\u001b[38;5;124mUnexpected type(bus)=\u001b[39m\u001b[38;5;132;01m{}\u001b[39;00m\u001b[38;5;124m\"\u001b[39m\u001b[38;5;241m.\u001b[39mformat(\u001b[38;5;28mtype\u001b[39m(bus)))\n\u001b[0;32m--> 310\u001b[0m \u001b[38;5;28mself\u001b[39m\u001b[38;5;241m.\u001b[39mfd \u001b[38;5;241m=\u001b[39m \u001b[43mos\u001b[49m\u001b[38;5;241;43m.\u001b[39;49m\u001b[43mopen\u001b[49m\u001b[43m(\u001b[49m\u001b[43mfilepath\u001b[49m\u001b[43m,\u001b[49m\u001b[43m \u001b[49m\u001b[43mos\u001b[49m\u001b[38;5;241;43m.\u001b[39;49m\u001b[43mO_RDWR\u001b[49m\u001b[43m)\u001b[49m\n\u001b[1;32m    311\u001b[0m \u001b[38;5;28mself\u001b[39m\u001b[38;5;241m.\u001b[39mfuncs \u001b[38;5;241m=\u001b[39m \u001b[38;5;28mself\u001b[39m\u001b[38;5;241m.\u001b[39m_get_funcs()\n",
      "\u001b[0;31mPermissionError\u001b[0m: [Errno 13] Permission denied: '/dev/i2c-1'"
     ]
    }
   ],
   "source": [
    "from smbus2 import SMBus, i2c_msg\n",
    "\n",
    "# MPU6050 details\n",
    "MPU6050_ADDRESS = 0x68\n",
    "WHO_AM_I_REG = 0x75\n",
    "\n",
    "# Function to read the WHO_AM_I register from the MPU6050\n",
    "def read_who_am_i(bus_number):\n",
    "    with SMBus(bus_number) as bus:\n",
    "        # Read a single byte from the WHO_AM_I register\n",
    "        who_am_i = bus.read_byte_data(MPU6050_ADDRESS, WHO_AM_I_REG)\n",
    "        return who_am_i\n",
    "\n",
    "# Test each MPU6050\n",
    "for i2c_bus in [1, 2, 3]:\n",
    "    who_am_i_value = read_who_am_i(i2c_bus)\n",
    "    print(f\"Bus {i2c_bus}: WHO_AM_I register value = {hex(who_am_i_value)}\")\n",
    "    if who_am_i_value == MPU6050_ADDRESS:\n",
    "        print(f\"MPU6050 on bus {i2c_bus} is responding correctly.\")\n",
    "    else:\n",
    "        print(f\"MPU6050 on bus {i2c_bus} is not responding correctly.\")\n"
   ]
  }
 ],
 "metadata": {
  "kernelspec": {
   "display_name": "spot_mini_env",
   "language": "python",
   "name": "python3"
  },
  "language_info": {
   "codemirror_mode": {
    "name": "ipython",
    "version": 3
   },
   "file_extension": ".py",
   "mimetype": "text/x-python",
   "name": "python",
   "nbconvert_exporter": "python",
   "pygments_lexer": "ipython3",
   "version": "3.10.0"
  }
 },
 "nbformat": 4,
 "nbformat_minor": 2
}
