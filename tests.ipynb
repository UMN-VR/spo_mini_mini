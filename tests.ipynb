{
 "cells": [
  {
   "cell_type": "markdown",
   "metadata": {},
   "source": [
    "### Start env_tester.py"
   ]
  },
  {
   "cell_type": "markdown",
   "metadata": {},
   "source": [
    "remember to\n",
    "\n",
    "xhost +local:docker\n",
    "or \n",
    "xhost + \n",
    "\n",
    "\n"
   ]
  },
  {
   "cell_type": "code",
   "execution_count": 4,
   "metadata": {},
   "outputs": [
    {
     "name": "stdout",
     "output_type": "stream",
     "text": [
      "/bin/bash: spot_mini_env/bin/activate: No such file or directory\n",
      "Collecting cloudpickle==3.0.0\n",
      "  Using cached cloudpickle-3.0.0-py3-none-any.whl (20 kB)\n",
      "Collecting contourpy==1.1.1\n",
      "  Using cached contourpy-1.1.1-cp310-cp310-manylinux_2_17_x86_64.manylinux2014_x86_64.whl (301 kB)\n",
      "Collecting cycler==0.12.1\n",
      "  Using cached cycler-0.12.1-py3-none-any.whl (8.3 kB)\n",
      "Collecting fonttools==4.47.0\n",
      "  Using cached fonttools-4.47.0-cp310-cp310-manylinux_2_17_x86_64.manylinux2014_x86_64.whl (4.6 MB)\n",
      "Collecting gym==0.26.2\n",
      "  Using cached gym-0.26.2-py3-none-any.whl\n",
      "Collecting gym-notices==0.0.8\n",
      "  Using cached gym_notices-0.0.8-py3-none-any.whl (3.0 kB)\n",
      "Collecting importlib-metadata==7.0.1\n",
      "  Using cached importlib_metadata-7.0.1-py3-none-any.whl (23 kB)\n",
      "Collecting importlib-resources==6.1.1\n",
      "  Using cached importlib_resources-6.1.1-py3-none-any.whl (33 kB)\n",
      "Collecting kiwisolver==1.4.5\n",
      "  Using cached kiwisolver-1.4.5-cp310-cp310-manylinux_2_12_x86_64.manylinux2010_x86_64.whl (1.6 MB)\n",
      "Collecting matplotlib==3.7.4\n",
      "  Using cached matplotlib-3.7.4-cp310-cp310-manylinux_2_17_x86_64.manylinux2014_x86_64.whl (11.6 MB)\n",
      "Collecting numpy==1.24.4\n",
      "  Using cached numpy-1.24.4-cp310-cp310-manylinux_2_17_x86_64.manylinux2014_x86_64.whl (17.3 MB)\n",
      "Requirement already satisfied: packaging==23.2 in /spot_mini_mini/spot_mini_env/lib/python3.10/site-packages (from -r spot_mini_mini/requirements.txt (line 12)) (23.2)\n",
      "Collecting Pillow==10.1.0\n",
      "  Using cached Pillow-10.1.0-cp310-cp310-manylinux_2_17_x86_64.manylinux2014_x86_64.whl (3.5 MB)\n",
      "Collecting pybullet==3.2.6\n",
      "  Using cached pybullet-3.2.6-cp310-cp310-manylinux_2_17_x86_64.manylinux2014_x86_64.whl (103.2 MB)\n",
      "Collecting pyparsing==3.1.1\n",
      "  Using cached pyparsing-3.1.1-py3-none-any.whl (103 kB)\n",
      "Requirement already satisfied: python-dateutil==2.8.2 in /spot_mini_mini/spot_mini_env/lib/python3.10/site-packages (from -r spot_mini_mini/requirements.txt (line 16)) (2.8.2)\n",
      "Requirement already satisfied: six==1.16.0 in /spot_mini_mini/spot_mini_env/lib/python3.10/site-packages (from -r spot_mini_mini/requirements.txt (line 17)) (1.16.0)\n",
      "Collecting zipp==3.17.0\n",
      "  Using cached zipp-3.17.0-py3-none-any.whl (7.4 kB)\n",
      "Collecting scipy==1.12.0\n",
      "  Using cached scipy-1.12.0-cp310-cp310-manylinux_2_17_x86_64.manylinux2014_x86_64.whl (38.4 MB)\n",
      "Collecting pandas==2.2.0\n",
      "  Using cached pandas-2.2.0-cp310-cp310-manylinux_2_17_x86_64.manylinux2014_x86_64.whl (13.0 MB)\n",
      "Collecting pytz==2023.3.post1\n",
      "  Using cached pytz-2023.3.post1-py2.py3-none-any.whl (502 kB)\n",
      "Collecting seaborn==0.13.1\n",
      "  Using cached seaborn-0.13.1-py3-none-any.whl (294 kB)\n",
      "Collecting tzdata==2023.4\n",
      "  Using cached tzdata-2023.4-py2.py3-none-any.whl (346 kB)\n",
      "Installing collected packages: numpy, tzdata, pytz, pyparsing, Pillow, kiwisolver, fonttools, cycler, contourpy, zipp, pandas, matplotlib, gym-notices, cloudpickle, seaborn, scipy, pybullet, importlib-resources, importlib-metadata, gym\n",
      "Successfully installed Pillow-10.1.0 cloudpickle-3.0.0 contourpy-1.1.1 cycler-0.12.1 fonttools-4.47.0 gym-0.26.2 gym-notices-0.0.8 importlib-metadata-7.0.1 importlib-resources-6.1.1 kiwisolver-1.4.5 matplotlib-3.7.4 numpy-1.24.4 pandas-2.2.0 pybullet-3.2.6 pyparsing-3.1.1 pytz-2023.3.post1 scipy-1.12.0 seaborn-0.13.1 tzdata-2023.4 zipp-3.17.0\n",
      "\u001b[33mWARNING: You are using pip version 21.2.3; however, version 23.3.2 is available.\n",
      "You should consider upgrading via the '/spot_mini_mini/spot_mini_env/bin/python3.10 -m pip install --upgrade pip' command.\u001b[0m\n",
      "bin   etc   lib64  opt\t ros_entrypoint.sh  spot_mini_mini  tmp  vscode\n",
      "boot  home  media  proc  run\t\t    srv\t\t    usr\n",
      "dev   lib   mnt    root  sbin\t\t    sys\t\t    var\n",
      "python3.10: can't open file '//env_tester.py': [Errno 2] No such file or directory\n"
     ]
    }
   ],
   "source": [
    "# source the venv spot_mini_env\n",
    "!source spot_mini_env/bin/activate\n",
    "\n",
    "#install the requirements\n",
    "!python3.10 -m pip install -r spot_mini_mini/requirements.txt\n",
    "\n",
    "# cd into the directory where this script is located\n"
   ]
  },
  {
   "cell_type": "code",
   "execution_count": 8,
   "metadata": {},
   "outputs": [
    {
     "name": "stdout",
     "output_type": "stream",
     "text": [
      "__init__.py    env_tester.py  old_eval_scripts\t    spot_ars.py       tg_lib\n",
      "ars_lib        mini_bullet    old_training_scripts  spot_ars_eval.py\n",
      "debug_scripts  no_contact     sac_lib\t\t    td3_lib\n",
      "1\n",
      "pybullet build time: Nov 28 2023 23:45:17\n",
      "/spot_mini_mini/spot_bullet/src/../../spotmicro/util/pybullet_data\n",
      "STARTING SPOT TEST ENV\n",
      "argv[0]=\n",
      "startThreads creating 1 threads.\n",
      "starting thread 0\n",
      "started thread 0 \n",
      "argc=3\n",
      "argv[0] = --unused\n",
      "argv[1] = \n",
      "argv[2] = --start_demo_name=Physics Server\n",
      "ExampleBrowserThreadFunc started\n",
      "X11 functions dynamically loaded using dlopen/dlsym OK!\n",
      "\n",
      "\tcannot connect to X server\n",
      "\n"
     ]
    }
   ],
   "source": [
    "!cd spot_mini_mini/spot_bullet/src && ls && echo $DISPLAY && python3.10 env_tester.py"
   ]
  }
 ],
 "metadata": {
  "kernelspec": {
   "display_name": "spot_mini_env",
   "language": "python",
   "name": "python3"
  },
  "language_info": {
   "codemirror_mode": {
    "name": "ipython",
    "version": 3
   },
   "file_extension": ".py",
   "mimetype": "text/x-python",
   "name": "python",
   "nbconvert_exporter": "python",
   "pygments_lexer": "ipython3",
   "version": "3.10.0"
  }
 },
 "nbformat": 4,
 "nbformat_minor": 2
}
